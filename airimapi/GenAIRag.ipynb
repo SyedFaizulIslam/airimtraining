{
 "cells": [
  {
   "cell_type": "code",
   "execution_count": 2,
   "metadata": {},
   "outputs": [
    {
     "data": {
      "text/plain": [
       "True"
      ]
     },
     "execution_count": 2,
     "metadata": {},
     "output_type": "execute_result"
    }
   ],
   "source": [
    "import pandas as pd\n",
    "import os\n",
    "import pypdf\n",
    "import fitz\n",
    "from langchain.chains import RetrievalQA\n",
    "from langchain_openai import AzureChatOpenAI, AzureOpenAIEmbeddings,OpenAIEmbeddings,ChatOpenAI\n",
    "from langchain_core.prompts import PromptTemplate\n",
    "from langchain.text_splitter import CharacterTextSplitter\n",
    "from langchain_community.vectorstores import Chroma,MongoDBAtlasVectorSearch\n",
    "from dotenv import find_dotenv, load_dotenv\n",
    "load_dotenv(find_dotenv())"
   ]
  },
  {
   "cell_type": "code",
   "execution_count": 4,
   "metadata": {},
   "outputs": [
    {
     "name": "stdout",
     "output_type": "stream",
     "text": [
      "We are doing a live session understating about RAG. \n",
      "This session is being help on teams \n",
      "The date of this session is on 17-Aug-2024 \n",
      "Timing is from 10 AM to 12:00 PM \n",
      "Participants are  \n",
      "Ankit, \n",
      "Syed \n",
      "Binoy \n",
      " \n",
      "\n"
     ]
    }
   ],
   "source": [
    "pdf_file=fitz.open(\"RagSampleDoc.pdf\", filetype=\"pdf\")\n",
    "text=pdf_file[0].get_text()\n",
    "print(text)\n"
   ]
  },
  {
   "cell_type": "code",
   "execution_count": 11,
   "metadata": {},
   "outputs": [
    {
     "name": "stdout",
     "output_type": "stream",
     "text": [
      "['We are doing a live session understating about RAG. \\nThis session is being help on teams \\nThe date of this session is on 17-Aug-2024 \\nTiming is from 10 AM to 12:00 PM \\nParticipants are  \\nAnkit, \\nSyed \\nBinoy']\n"
     ]
    }
   ],
   "source": [
    "text_splitter=CharacterTextSplitter(chunk_size=20,chunk_overlap=5)\n",
    "chunked_text=text_splitter.split_text(text)\n",
    "print(chunked_text)\n"
   ]
  },
  {
   "cell_type": "code",
   "execution_count": 12,
   "metadata": {},
   "outputs": [],
   "source": [
    "OPENAI_API_KEY=os.environ[\"OPENAI_API_KEY\"]\n",
    "model_llm = ChatOpenAI(model_name=\"gpt-4o\", temperature=0, api_key=OPENAI_API_KEY)\n",
    "llm_embeddings=OpenAIEmbeddings(api_key=OPENAI_API_KEY)"
   ]
  },
  {
   "cell_type": "code",
   "execution_count": 13,
   "metadata": {},
   "outputs": [
    {
     "name": "stderr",
     "output_type": "stream",
     "text": [
      "c:\\Users\\syedf\\OneDrive\\Desktop\\github\\airimtraining\\airimapi\\venv\\Lib\\site-packages\\langchain_core\\_api\\deprecation.py:141: LangChainDeprecationWarning: The class `Chroma` was deprecated in LangChain 0.2.9 and will be removed in 0.4. An updated version of the class exists in the langchain-chroma package and should be used instead. To use it run `pip install -U langchain-chroma` and import as `from langchain_chroma import Chroma`.\n",
      "  warn_deprecated(\n",
      "c:\\Users\\syedf\\OneDrive\\Desktop\\github\\airimtraining\\airimapi\\venv\\Lib\\site-packages\\langchain_core\\_api\\deprecation.py:141: LangChainDeprecationWarning: Since Chroma 0.4.x the manual persistence method is no longer supported as docs are automatically persisted.\n",
      "  warn_deprecated(\n"
     ]
    }
   ],
   "source": [
    "chroma_vector_db=Chroma(persist_directory=\"chroma_vector_db\",embedding_function=llm_embeddings)\n",
    "chroma_vector_db.add_texts(chunked_text,persist=True,llm_embeddings=llm_embeddings)\n",
    "chroma_vector_db.persist()"
   ]
  },
  {
   "cell_type": "code",
   "execution_count": 14,
   "metadata": {},
   "outputs": [
    {
     "ename": "TypeError",
     "evalue": "BaseRetrievalQA.from_chain_type() missing 1 required positional argument: 'llm'",
     "output_type": "error",
     "traceback": [
      "\u001b[1;31m---------------------------------------------------------------------------\u001b[0m",
      "\u001b[1;31mTypeError\u001b[0m                                 Traceback (most recent call last)",
      "Cell \u001b[1;32mIn[14], line 8\u001b[0m\n\u001b[0;32m      6\u001b[0m chain_type_kwargs\u001b[38;5;241m=\u001b[39m{\u001b[38;5;124m\"\u001b[39m\u001b[38;5;124mprompt\u001b[39m\u001b[38;5;124m\"\u001b[39m:PROMPT}\n\u001b[0;32m      7\u001b[0m retrievar\u001b[38;5;241m=\u001b[39mchroma_vector_db\u001b[38;5;241m.\u001b[39mas_retriever()\n\u001b[1;32m----> 8\u001b[0m chain\u001b[38;5;241m=\u001b[39m\u001b[43mRetrievalQA\u001b[49m\u001b[38;5;241;43m.\u001b[39;49m\u001b[43mfrom_chain_type\u001b[49m\u001b[43m(\u001b[49m\u001b[43mretrievar\u001b[49m\u001b[38;5;241;43m=\u001b[39;49m\u001b[43mretrievar\u001b[49m\u001b[43m,\u001b[49m\u001b[43mmodel\u001b[49m\u001b[38;5;241;43m=\u001b[39;49m\u001b[43mmodel_llm\u001b[49m\u001b[43m,\u001b[49m\u001b[43mchain_type\u001b[49m\u001b[38;5;241;43m=\u001b[39;49m\u001b[38;5;124;43m\"\u001b[39;49m\u001b[38;5;124;43mstuff\u001b[39;49m\u001b[38;5;124;43m\"\u001b[39;49m\u001b[43m,\u001b[49m\u001b[43mchain_type_kwargs\u001b[49m\u001b[38;5;241;43m=\u001b[39;49m\u001b[43mchain_type_kwargs\u001b[49m\u001b[43m)\u001b[49m\n\u001b[0;32m      9\u001b[0m response\u001b[38;5;241m=\u001b[39mchain\u001b[38;5;241m.\u001b[39minvoke(\u001b[38;5;124m\"\u001b[39m\u001b[38;5;124mWhat is the session about?\u001b[39m\u001b[38;5;124m\"\u001b[39m)\n",
      "\u001b[1;31mTypeError\u001b[0m: BaseRetrievalQA.from_chain_type() missing 1 required positional argument: 'llm'"
     ]
    }
   ],
   "source": [
    "prompt_template=\"\"\"You are AI assitant that is expert in extracting information from PDFs. You have been given a PDF document that contains information about live session. You need to extract the information from the PDF document and answer the following questions:\"\n",
    "{context}\n",
    "Question: {question}\n",
    "\"\"\"\n",
    "PROMPT=PromptTemplate(template=prompt_template,input_variables=[\"context\",\"question\"])\n",
    "chain_type_kwargs={\"prompt\":PROMPT}\n",
    "retrievar=chroma_vector_db.as_retriever()\n",
    "chain=RetrievalQA.from_chain_type(retrievar=retrievar,llm=model_llm,chain_type=\"stuff\",chain_type_kwargs=chain_type_kwargs)\n",
    "response=chain.invoke(\"What is the session about?\")"
   ]
  }
 ],
 "metadata": {
  "kernelspec": {
   "display_name": "venv",
   "language": "python",
   "name": "python3"
  },
  "language_info": {
   "codemirror_mode": {
    "name": "ipython",
    "version": 3
   },
   "file_extension": ".py",
   "mimetype": "text/x-python",
   "name": "python",
   "nbconvert_exporter": "python",
   "pygments_lexer": "ipython3",
   "version": "3.11.5"
  }
 },
 "nbformat": 4,
 "nbformat_minor": 2
}
